{
  "nbformat": 4,
  "nbformat_minor": 0,
  "metadata": {
    "colab": {
      "name": "Image to Pixel.ipynb",
      "provenance": [],
      "collapsed_sections": [],
      "include_colab_link": true
    },
    "kernelspec": {
      "name": "python3",
      "display_name": "Python 3"
    },
    "language_info": {
      "name": "python"
    }
  },
  "cells": [
    {
      "cell_type": "markdown",
      "metadata": {
        "id": "view-in-github",
        "colab_type": "text"
      },
      "source": [
        "<a href=\"https://colab.research.google.com/github/shahnewaz007/SoftComp/blob/main/Image_to_Pixel.ipynb\" target=\"_parent\"><img src=\"https://colab.research.google.com/assets/colab-badge.svg\" alt=\"Open In Colab\"/></a>"
      ]
    },
    {
      "cell_type": "code",
      "metadata": {
        "id": "DhpV97Ufghbh",
        "colab": {
          "base_uri": "https://localhost:8080/"
        },
        "outputId": "91724d38-af42-4d29-d6f3-f406113fb493"
      },
      "source": [
        "from google.colab import drive\n",
        "\n",
        "drive.mount('/content/drive')\n",
        "\n",
        "root_path = '/content/drive/MyDrive/SoftComp/Assignment_2/'"
      ],
      "execution_count": null,
      "outputs": [
        {
          "output_type": "stream",
          "name": "stdout",
          "text": [
            "Mounted at /content/drive\n"
          ]
        }
      ]
    },
    {
      "cell_type": "code",
      "metadata": {
        "id": "0bVVicCYguEB"
      },
      "source": [
        "from PIL import Image\n",
        "import math\n",
        "import numpy as np\n",
        "import pandas as pd\n",
        "import matplotlib.pyplot as plt\n",
        "import os\n",
        "import csv\n",
        "\n",
        "#Useful function\n",
        "def createFileList(myDir, format='.png'):\n",
        "  fileList = []\n",
        "  for root, dirs, files in os.walk(myDir, topdown=False):\n",
        "    for name in files:\n",
        "      if name.endswith(format):\n",
        "        fullName = os.path.join(root, name)\n",
        "        fileList.append(fullName)\n",
        "  return fileList\n",
        "\n",
        "# load the original image\n",
        "myFileList = createFileList(root_path)\n",
        "\n",
        "for file in myFileList:\n",
        "  img_file = Image.open(file)\n",
        "  img_file = img_file.resize((28, 28))\n",
        "\n",
        "  # Make image Greyscale\n",
        "  img_grey = img_file.convert('L')\n",
        "\n",
        "  # Save Greyscale values\n",
        "  value = np.asarray(img_grey.getdata(), dtype=np.int).reshape((img_grey.size[1], img_grey.size[0]))\n",
        "  value = value.flatten()\n",
        "  value = value.tolist()\n",
        "  value.insert(0, os.path.basename(file))\n",
        "  with open(root_path + \"img_pixels.csv\", 'a') as f:\n",
        "    writer = csv.writer(f)\n",
        "    writer.writerow(value)"
      ],
      "execution_count": null,
      "outputs": []
    },
    {
      "cell_type": "code",
      "metadata": {
        "id": "sfheknrKNRWg"
      },
      "source": [
        "header_list = ['filename']\n",
        "for x in range(1, 785):\n",
        "  header_list.append('pixel'+str(x))"
      ],
      "execution_count": null,
      "outputs": []
    },
    {
      "cell_type": "code",
      "metadata": {
        "id": "-rq9jh8_QI4Z"
      },
      "source": [
        "df1 = pd.read_csv(root_path + 'Dataset C/training-c.csv')\n",
        "df1 = df1[['filename', 'digit']]\n",
        "df2 = pd.read_csv(root_path + \"img_pixels.csv\", names=header_list)\n",
        "\n",
        "print(df1)\n",
        "print(df2)"
      ],
      "execution_count": null,
      "outputs": []
    },
    {
      "cell_type": "code",
      "metadata": {
        "id": "JRBJhZWIRBby"
      },
      "source": [
        "df3 = pd.merge(df1,df2,on='filename').drop(columns=['filename'])\n",
        "df3.columns = ['label' if x=='digit' else x for x in df3.columns]"
      ],
      "execution_count": null,
      "outputs": []
    },
    {
      "cell_type": "code",
      "metadata": {
        "id": "uwM7wM1hdh3-"
      },
      "source": [
        "df3"
      ],
      "execution_count": null,
      "outputs": []
    },
    {
      "cell_type": "code",
      "metadata": {
        "id": "669Uuucak9oM"
      },
      "source": [
        "X_data = df3.drop(\"label\", axis=1).values.astype(np.uint8)\n",
        "y_data = df3[\"label\"].values"
      ],
      "execution_count": null,
      "outputs": []
    },
    {
      "cell_type": "code",
      "metadata": {
        "id": "zvrRGXP-l321"
      },
      "source": [
        "def plot_sample_images(X, y, ncols=5, num=25):\n",
        "  num = int(min(num, len(y)))\n",
        "  nrows = math.ceil(num / ncols)\n",
        "  fig, axes = plt.subplots(ncols=ncols, nrows=nrows, figsize=(ncols, nrows))\n",
        "  fig.subplots_adjust(hspace=0.8)\n",
        "  for i, ax in enumerate(axes.flatten()):\n",
        "    if i < num:\n",
        "      ax.imshow(X.max()-X[i].reshape(28, 28), cmap=\"gray\")\n",
        "      ax.set_title(str(y[i]))\n",
        "    ax.axis('off')\n",
        "  plt.show()"
      ],
      "execution_count": null,
      "outputs": []
    },
    {
      "cell_type": "code",
      "metadata": {
        "id": "8xa5Wot3l-AU"
      },
      "source": [
        "plot_sample_images(X_data, y_data, ncols=10, num=100)"
      ],
      "execution_count": null,
      "outputs": []
    },
    {
      "cell_type": "code",
      "metadata": {
        "id": "C7pj-m4hnBBs"
      },
      "source": [
        "df3.to_csv(root_path + 'finaloutput.csv', index=False)"
      ],
      "execution_count": null,
      "outputs": []
    }
  ]
}