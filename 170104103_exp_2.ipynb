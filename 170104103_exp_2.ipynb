{
  "nbformat": 4,
  "nbformat_minor": 0,
  "metadata": {
    "colab": {
      "name": "p2.ipynb",
      "provenance": [],
      "collapsed_sections": [],
      "include_colab_link": true
    },
    "kernelspec": {
      "name": "python3",
      "display_name": "Python 3"
    },
    "language_info": {
      "name": "python"
    }
  },
  "cells": [
    {
      "cell_type": "markdown",
      "metadata": {
        "id": "view-in-github",
        "colab_type": "text"
      },
      "source": [
        "<a href=\"https://colab.research.google.com/github/shahnewaz007/SoftComp/blob/main/p2.ipynb\" target=\"_parent\"><img src=\"https://colab.research.google.com/assets/colab-badge.svg\" alt=\"Open In Colab\"/></a>"
      ]
    },
    {
      "cell_type": "markdown",
      "metadata": {
        "id": "IU2vVOns0lmz"
      },
      "source": [
        "\n",
        "\n",
        "> Notebook Prepared by: Ayon\n",
        "\n",
        "\n",
        "> Course Teacher: Sanzana Karim Lora\n",
        "\n",
        "\n",
        "\n"
      ]
    },
    {
      "cell_type": "code",
      "metadata": {
        "colab": {
          "base_uri": "https://localhost:8080/"
        },
        "id": "ozf-qRubmelG",
        "outputId": "6f903919-bff8-4f2b-a6b5-3ab43b472dbe"
      },
      "source": [
        "from google.colab import drive\n",
        "\n",
        "drive.mount('/content/drive')\n",
        "\n",
        "root_path = '/content/drive/MyDrive/SoftComp/Assignment_2/'"
      ],
      "execution_count": null,
      "outputs": [
        {
          "output_type": "stream",
          "name": "stdout",
          "text": [
            "Mounted at /content/drive\n"
          ]
        }
      ]
    },
    {
      "cell_type": "markdown",
      "metadata": {
        "id": "sKNvEPfDHQFP"
      },
      "source": [
        "# Import Library"
      ]
    },
    {
      "cell_type": "code",
      "metadata": {
        "id": "7TYWfYCnZPun"
      },
      "source": [
        "import numpy as np\n",
        "import pandas as pd\n",
        "import matplotlib\n",
        "import matplotlib.pyplot as plt\n",
        "import os\n",
        "import torch\n",
        "import torch.nn as nn\n",
        "import torch.nn.functional as F\n",
        "from torch.utils.data import Dataset\n",
        "from torch.utils.data.sampler import SubsetRandomSampler\n",
        "from torchvision import datasets, transforms\n",
        "from PIL import Image\n",
        "from sklearn.metrics import accuracy_score\n",
        "from sklearn.metrics import confusion_matrix\n",
        "from sklearn.metrics import f1_score\n",
        "from sklearn.metrics import precision_score\n",
        "from sklearn.metrics import recall_score\n",
        "from sklearn.model_selection import train_test_split"
      ],
      "execution_count": null,
      "outputs": []
    },
    {
      "cell_type": "markdown",
      "metadata": {
        "id": "qtsiAeLAt2Sm"
      },
      "source": [
        "# Confusion Matrix"
      ]
    },
    {
      "cell_type": "code",
      "metadata": {
        "id": "7Tqi81ASt9c1"
      },
      "source": [
        "def plot_confusion_matrix(cm, classes):\n",
        "  plt.imshow(cm, interpolation='nearest', cmap=plt.cm.Blues)\n",
        "  plt.title('Confusion matrix')\n",
        "  plt.colorbar()\n",
        "  tick_marks = np.arange(len(classes))\n",
        "  plt.xticks(tick_marks, classes, rotation=45)\n",
        "  plt.yticks(tick_marks, classes)\n",
        "\n",
        "  thresh = cm.max() / 2.\n",
        "  for i in range (cm.shape[0]):\n",
        "    for j in range (cm.shape[1]):\n",
        "      plt.text(j, i, cm[i, j], horizontalalignment=\"center\", color=\"white\" if cm[i, j] > thresh else \"black\")\n",
        "      plt.tight_layout()\n",
        "      plt.ylabel('True label')\n",
        "      plt.xlabel('Predicted label')"
      ],
      "execution_count": null,
      "outputs": []
    },
    {
      "cell_type": "markdown",
      "metadata": {
        "id": "fABdi2jbhHN-"
      },
      "source": [
        "# Prediction"
      ]
    },
    {
      "cell_type": "code",
      "metadata": {
        "id": "V8kVyAzOjsAr"
      },
      "source": [
        "def get_all_prediction(loader, device, model):\n",
        "  predictions_list = torch.tensor([], dtype=torch.int32)\n",
        "  labels_list = torch.tensor([], dtype=torch.int32)\n",
        "  for i, (images, labels) in enumerate(loader):\n",
        "    images = images.view(-1, 28*28).to(device)\n",
        "    labels = labels.to(device)\n",
        "\n",
        "    # Forward pass only to get logits/output\n",
        "    outputs = model(images)\n",
        "\n",
        "    # Get predictions from the maximum value\n",
        "    _, predictions = torch.max(outputs, 1)\n",
        "    predictions_list = torch.cat((predictions_list, predictions.cpu()), dim = 0)\n",
        "    labels_list = torch.cat((labels_list.cpu(), labels.cpu()), dim = 0).to(device)\n",
        "  return predictions_list, labels_list.cpu()"
      ],
      "execution_count": null,
      "outputs": []
    },
    {
      "cell_type": "markdown",
      "metadata": {
        "id": "pSyejI8Shty9"
      },
      "source": [
        "# Train"
      ]
    },
    {
      "cell_type": "code",
      "metadata": {
        "id": "50AqsalZRlG7"
      },
      "source": [
        "def train(train_dataset, test_dataset, experiment_number):\n",
        "  # Hyperparameters\n",
        "\n",
        "  batch_size = 128\n",
        "  num_iters = 20000\n",
        "  input_dim = 28*28 # num_features = 784\n",
        "  num_hidden = 300# num of hidden nodes\n",
        "  output_dim = 10\n",
        "\n",
        "  learning_rate = 0.001  # More power so we can learn faster! previously it was 0.001\n",
        "\n",
        "  startingEpoch = 0\n",
        "  iteration_loss = []\n",
        "  iter = 0\n",
        "\n",
        "  # Device\n",
        "  device = torch.device(\"cuda:0\" if torch.cuda.is_available() else \"cpu\")\n",
        "\n",
        "  X_data = train_dataset.drop(\"label\", axis=1).values.astype(np.uint8)\n",
        "  y_data = train_dataset[\"label\"].values.astype(np.uint8)\n",
        "\n",
        "  X_test = test_dataset.drop(\"label\", axis=1).values.astype(np.uint8)\n",
        "  y_test = test_dataset[\"label\"].values.astype(np.uint8)\n",
        "\n",
        "  class DigitRecognizerDataset(Dataset):\n",
        "    def __init__(self, X, y, transforms):\n",
        "      self.X = X\n",
        "      self.y = y\n",
        "      self.transforms = transforms\n",
        "\n",
        "    def __len__(self):\n",
        "      return self.X.shape[0]\n",
        "\n",
        "    def __getitem__(self, idx):\n",
        "      X = np.reshape(self.X[idx], (28, 28, 1))\n",
        "      X = self.transforms(X)\n",
        "      return X, self.y[idx]\n",
        "  \n",
        "  transform_test = transforms.Compose([\n",
        "    transforms.ToTensor(),\n",
        "    transforms.Normalize((0.5,), (0.5,))\n",
        "  ])\n",
        "\n",
        "  train_dataset = DigitRecognizerDataset(X=X_data, y=y_data, transforms=transform_test)\n",
        "  test_dataset = DigitRecognizerDataset(X=X_test, y=y_test, transforms=transform_test)\n",
        "\n",
        "  num_epochs = num_iters / (len(train_dataset) / batch_size)\n",
        "  num_epochs = int(num_epochs)\n",
        "\n",
        "  # prepare loaders\n",
        "  train_loader = torch.utils.data.DataLoader(dataset=train_dataset, \n",
        "                                            batch_size=batch_size, \n",
        "                                            shuffle=True)   # It's better to shuffle the whole training dataset! \n",
        "\n",
        "  test_loader = torch.utils.data.DataLoader(dataset=test_dataset, \n",
        "                                            batch_size=batch_size, \n",
        "                                            shuffle=False) \n",
        "  \n",
        "  class DeepNeuralNetworkModel(nn.Module):\n",
        "    def __init__(self, input_size, num_classes):\n",
        "      super().__init__()      \n",
        "      \n",
        "      ### 1st hidden layer: 784 --> 300\n",
        "      self.linear_1 = nn.Linear(input_size, num_hidden)\n",
        "      ### Non-linearity in 1st hidden layer\n",
        "      self.tanh_1 = nn.Tanh()\n",
        "\n",
        "      ### 2nd hidden layer: 300 --> 300\n",
        "      self.linear_2 = nn.Linear(num_hidden, num_hidden)\n",
        "      ### Non-linearity in 2nd hidden layer\n",
        "      self.tanh_2 = nn.Tanh()\n",
        "\n",
        "      self.linear_out = nn.Linear(num_hidden, num_classes)\n",
        "    \n",
        "    def forward(self, x):\n",
        "      ### 1st hidden layer\n",
        "      out  = self.linear_1(x)\n",
        "      ### Non-linearity in 1st hidden layer\n",
        "      out = self.tanh_1(out)\n",
        "\n",
        "      ### 2nd hidden layer\n",
        "      out  = self.linear_2(out)\n",
        "      ### Non-linearity in 2nd hidden layer\n",
        "      out = self.tanh_2(out)\n",
        "\n",
        "      probas  = self.linear_out(out)\n",
        "      return probas\n",
        "        \n",
        "  '''\n",
        "  INSTANTIATE MODEL CLASS\n",
        "  '''\n",
        "  model = DeepNeuralNetworkModel(input_size = input_dim,\n",
        "                                num_classes = output_dim)\n",
        "  # To enable GPU\n",
        "  model.to(device)\n",
        "\n",
        "  criterion = nn.CrossEntropyLoss()\n",
        "  optimizer = torch.optim.Adam(model.parameters(), lr = learning_rate)\n",
        "\n",
        "  if experiment_number == 1 and os.path.isfile(root_path + 'Experiment2_Checkpoint1.pth.tar'):\n",
        "    checkpoint = torch.load(root_path + 'Experiment2_Checkpoint1.pth.tar')\n",
        "    print(\"=> Loading checkpoint\")\n",
        "    print(str(checkpoint['iter'])+' iteration complete so far.')\n",
        "    model.load_state_dict(checkpoint['model_state_dict'])\n",
        "    optimizer.load_state_dict(checkpoint['optimizer_state_dict'])\n",
        "    loss = checkpoint['loss']\n",
        "    startingEpoch = checkpoint['epoch']\n",
        "    iteration_loss = checkpoint['iteration_loss']\n",
        "    iter = checkpoint['iter']\n",
        "    model.train()\n",
        "  elif experiment_number == 2 and os.path.isfile(root_path + 'Experiment2_Checkpoint2.pth.tar'):\n",
        "    checkpoint = torch.load(root_path + 'Experiment2_Checkpoint2.pth.tar')\n",
        "    print(\"=> Loading checkpoint\")\n",
        "    print(str(checkpoint['iter'])+' iteration complete so far.')\n",
        "    model.load_state_dict(checkpoint['model_state_dict'])\n",
        "    optimizer.load_state_dict(checkpoint['optimizer_state_dict'])\n",
        "    loss = checkpoint['loss']\n",
        "    startingEpoch = checkpoint['epoch']\n",
        "    iteration_loss = checkpoint['iteration_loss']\n",
        "    iter = checkpoint['iter']\n",
        "    model.train()\n",
        "\n",
        "  if startingEpoch + 1 < num_epochs:\n",
        "    print('Starting Epoch '+ str(startingEpoch + 1))\n",
        "    for epoch in range(startingEpoch, num_epochs):      \n",
        "      for i, (images, labels) in enumerate(train_loader):\n",
        "        \n",
        "        images = images.view(-1, 28*28).to(device)\n",
        "        labels = labels.to(device).type(torch.LongTensor)\n",
        "\n",
        "        \n",
        "        # Clear gradients w.r.t. parameters\n",
        "        optimizer.zero_grad()\n",
        "\n",
        "        # Forward pass to get output/logits\n",
        "        outputs = model(images).cpu()\n",
        "\n",
        "        # Calculate Loss: softmax --> cross entropy loss\n",
        "  \n",
        "        loss = criterion(outputs, labels)\n",
        "\n",
        "        # Getting gradients w.r.t. parameters\n",
        "        loss.backward()\n",
        "\n",
        "        # Updating parameters\n",
        "        optimizer.step()\n",
        "\n",
        "        iter += 1\n",
        "\n",
        "        if iter % 500 == 0:\n",
        "          # Calculate Accuracy         \n",
        "          correct = 0\n",
        "          total = 0\n",
        "          # Iterate through test dataset\n",
        "          for images, labels in test_loader:\n",
        "            \n",
        "            images = images.view(-1, 28*28).to(device)\n",
        "\n",
        "            # Forward pass only to get logits/output\n",
        "            outputs = model(images)\n",
        "\n",
        "            # Get predictions from the maximum value\n",
        "            _, predicted = torch.max(outputs, 1)\n",
        "\n",
        "            # Total number of labels\n",
        "            total += labels.size(0)\n",
        "\n",
        "\n",
        "            # Total correct predictions\n",
        "            if torch.cuda.is_available():\n",
        "              correct += (predicted.cpu() == labels.cpu()).sum() \n",
        "            else:\n",
        "              correct += (predicted == labels).sum()\n",
        "\n",
        "          accuracy = 100 * correct.item() / total\n",
        "          \n",
        "          # Print Loss\n",
        "          iteration_loss.append(loss.item())\n",
        "          print('Iteration: {}. Loss: {}. Accuracy: {}'.format(iter, loss.item(), accuracy))\n",
        "\n",
        "      checkpoint = {'epoch': epoch, \n",
        "                    'model_state_dict': model.state_dict(), \n",
        "                    'optimizer_state_dict': optimizer.state_dict(),\n",
        "                    'loss': loss,\n",
        "                    'iteration_loss': iteration_loss,\n",
        "                    'iter': iter}\n",
        "      print(\"=> Saving checkpoint of epoch \" + str(epoch + 1))\n",
        "      if experiment_number == 1:\n",
        "        torch.save(checkpoint, root_path + 'Experiment2_Checkpoint1.pth.tar')\n",
        "      elif experiment_number == 2:\n",
        "        torch.save(checkpoint, root_path + 'Experiment2_Checkpoint2.pth.tar')\n",
        "  else:\n",
        "    print('Training Complete')\n",
        "\n",
        "  plt.title(\"Loss vs Iteration\")\n",
        "  plt.plot(iteration_loss)\n",
        "  plt.ylabel('Cross Entropy Loss')\n",
        "  plt.xlabel('Iteration (in every 500)')\n",
        "  plt.show()\n",
        "\n",
        "  save_model = True\n",
        "\n",
        "  if save_model is True and experiment_number == 1:\n",
        "    # Saves only parameters\n",
        "    # weights & biases\n",
        "    torch.save(model.state_dict(), root_path + 'Experiment2_NN1.pkl')\n",
        "  elif save_model is True and experiment_number == 2:\n",
        "    # Saves only parameters\n",
        "    # weights & biases\n",
        "    torch.save(model.state_dict(), root_path + 'Experiment2_NN2.pkl')\n",
        "\n",
        "  load_model = True\n",
        "\n",
        "  if load_model is True and experiment_number == 1:\n",
        "    model.load_state_dict(torch.load(root_path + 'Experiment2_NN1.pkl'))\n",
        "    print('Trained Model Loaded')\n",
        "  elif load_model is True and experiment_number == 2:\n",
        "    model.load_state_dict(torch.load(root_path + 'Experiment2_NN2.pkl'))\n",
        "    print('Trained Model Loaded')\n",
        "\n",
        "  y_pred, y_true = get_all_prediction(test_loader, device, model)\n",
        "\n",
        "  print('Accuracy: ' +str(round(accuracy_score(y_true, y_pred) * 100, 4)))\n",
        "  print('Precision: ' +str(round(precision_score(y_true, y_pred, average='micro') * 100, 4)))\n",
        "  print('Recall: ' +str(round(recall_score(y_true, y_pred, average='micro') * 100, 4)))\n",
        "  print('F1 score: ' +str(round(f1_score(y_true, y_pred, average='micro')  * 100, 4)))\n",
        "  confusion_mtx = confusion_matrix(y_true, y_pred)\n",
        "  plot_confusion_matrix(confusion_mtx, classes = range(10))"
      ],
      "execution_count": null,
      "outputs": []
    },
    {
      "cell_type": "markdown",
      "metadata": {
        "id": "MbKjn2zOhM_0"
      },
      "source": [
        "# Model 1"
      ]
    },
    {
      "cell_type": "markdown",
      "metadata": {
        "id": "C4R6x4MvEsOT"
      },
      "source": [
        "## Loading NumtaDB Dataset"
      ]
    },
    {
      "cell_type": "code",
      "metadata": {
        "id": "eG97wmIiaBsc"
      },
      "source": [
        "df = pd.read_csv(root_path + 'finaloutput.csv')"
      ],
      "execution_count": null,
      "outputs": []
    },
    {
      "cell_type": "markdown",
      "metadata": {
        "id": "NR_8WF-thlFJ"
      },
      "source": [
        "## Splitting NumtaDB Dataset"
      ]
    },
    {
      "cell_type": "code",
      "metadata": {
        "id": "red2GGG1M5PK"
      },
      "source": [
        "train_dataset, test_dataset = train_test_split(df, test_size=0.2, random_state=42)"
      ],
      "execution_count": null,
      "outputs": []
    },
    {
      "cell_type": "markdown",
      "metadata": {
        "id": "MZoav7Hwh0SK"
      },
      "source": [
        "## Training NumtaDB Dataset"
      ]
    },
    {
      "cell_type": "code",
      "metadata": {
        "id": "vmkMVvf8CLHf",
        "colab": {
          "base_uri": "https://localhost:8080/",
          "height": 1000
        },
        "outputId": "3d8bc5b0-8e64-4ffa-f92c-dee5c90e8629"
      },
      "source": [
        "train(train_dataset, test_dataset, 1)"
      ],
      "execution_count": null,
      "outputs": [
        {
          "output_type": "stream",
          "name": "stdout",
          "text": [
            "Starting Epoch 1\n",
            "=> Saving checkpoint of epoch 1\n",
            "=> Saving checkpoint of epoch 2\n",
            "=> Saving checkpoint of epoch 3\n",
            "Iteration: 500. Loss: 1.9890183210372925. Accuracy: 33.35390946502058\n",
            "=> Saving checkpoint of epoch 4\n",
            "=> Saving checkpoint of epoch 5\n",
            "=> Saving checkpoint of epoch 6\n",
            "Iteration: 1000. Loss: 2.041062831878662. Accuracy: 34.4238683127572\n",
            "=> Saving checkpoint of epoch 7\n",
            "=> Saving checkpoint of epoch 8\n",
            "=> Saving checkpoint of epoch 9\n",
            "Iteration: 1500. Loss: 1.7038768529891968. Accuracy: 44.629629629629626\n",
            "=> Saving checkpoint of epoch 10\n",
            "=> Saving checkpoint of epoch 11\n",
            "=> Saving checkpoint of epoch 12\n",
            "=> Saving checkpoint of epoch 13\n",
            "Iteration: 2000. Loss: 1.45720636844635. Accuracy: 48.08641975308642\n",
            "=> Saving checkpoint of epoch 14\n",
            "=> Saving checkpoint of epoch 15\n",
            "=> Saving checkpoint of epoch 16\n",
            "Iteration: 2500. Loss: 1.3083738088607788. Accuracy: 52.510288065843625\n",
            "=> Saving checkpoint of epoch 17\n",
            "=> Saving checkpoint of epoch 18\n",
            "=> Saving checkpoint of epoch 19\n",
            "Iteration: 3000. Loss: 1.2432148456573486. Accuracy: 60.370370370370374\n",
            "=> Saving checkpoint of epoch 20\n",
            "=> Saving checkpoint of epoch 21\n",
            "=> Saving checkpoint of epoch 22\n",
            "=> Saving checkpoint of epoch 23\n",
            "Iteration: 3500. Loss: 1.100862741470337. Accuracy: 60.59670781893004\n",
            "=> Saving checkpoint of epoch 24\n",
            "=> Saving checkpoint of epoch 25\n",
            "=> Saving checkpoint of epoch 26\n",
            "Iteration: 4000. Loss: 0.7535150051116943. Accuracy: 61.440329218106996\n",
            "=> Saving checkpoint of epoch 27\n",
            "=> Saving checkpoint of epoch 28\n",
            "=> Saving checkpoint of epoch 29\n",
            "Iteration: 4500. Loss: 0.9674842357635498. Accuracy: 64.69135802469135\n",
            "=> Saving checkpoint of epoch 30\n",
            "=> Saving checkpoint of epoch 31\n",
            "=> Saving checkpoint of epoch 32\n",
            "Iteration: 5000. Loss: 0.9835905432701111. Accuracy: 59.52674897119341\n",
            "=> Saving checkpoint of epoch 33\n",
            "=> Saving checkpoint of epoch 34\n",
            "=> Saving checkpoint of epoch 35\n",
            "=> Saving checkpoint of epoch 36\n",
            "Iteration: 5500. Loss: 0.8141148686408997. Accuracy: 71.46090534979425\n",
            "=> Saving checkpoint of epoch 37\n",
            "=> Saving checkpoint of epoch 38\n",
            "=> Saving checkpoint of epoch 39\n",
            "Iteration: 6000. Loss: 0.6807580590248108. Accuracy: 69.11522633744856\n",
            "=> Saving checkpoint of epoch 40\n",
            "=> Saving checkpoint of epoch 41\n",
            "=> Saving checkpoint of epoch 42\n",
            "Iteration: 6500. Loss: 0.7850188612937927. Accuracy: 72.88065843621399\n",
            "=> Saving checkpoint of epoch 43\n",
            "=> Saving checkpoint of epoch 44\n",
            "=> Saving checkpoint of epoch 45\n",
            "=> Saving checkpoint of epoch 46\n",
            "Iteration: 7000. Loss: 0.7443740963935852. Accuracy: 72.38683127572017\n",
            "=> Saving checkpoint of epoch 47\n",
            "=> Saving checkpoint of epoch 48\n",
            "=> Saving checkpoint of epoch 49\n",
            "Iteration: 7500. Loss: 0.6938004493713379. Accuracy: 74.52674897119341\n",
            "=> Saving checkpoint of epoch 50\n",
            "=> Saving checkpoint of epoch 51\n",
            "=> Saving checkpoint of epoch 52\n",
            "Iteration: 8000. Loss: 0.5773733258247375. Accuracy: 76.64609053497942\n",
            "=> Saving checkpoint of epoch 53\n",
            "=> Saving checkpoint of epoch 54\n",
            "=> Saving checkpoint of epoch 55\n",
            "Iteration: 8500. Loss: 0.7311118245124817. Accuracy: 75.04115226337449\n",
            "=> Saving checkpoint of epoch 56\n",
            "=> Saving checkpoint of epoch 57\n",
            "=> Saving checkpoint of epoch 58\n",
            "=> Saving checkpoint of epoch 59\n",
            "Iteration: 9000. Loss: 0.47441279888153076. Accuracy: 74.1358024691358\n",
            "=> Saving checkpoint of epoch 60\n",
            "=> Saving checkpoint of epoch 61\n",
            "=> Saving checkpoint of epoch 62\n",
            "Iteration: 9500. Loss: 0.67677903175354. Accuracy: 77.65432098765432\n",
            "=> Saving checkpoint of epoch 63\n",
            "=> Saving checkpoint of epoch 64\n",
            "=> Saving checkpoint of epoch 65\n",
            "Iteration: 10000. Loss: 0.5774917602539062. Accuracy: 78.18930041152264\n",
            "=> Saving checkpoint of epoch 66\n",
            "=> Saving checkpoint of epoch 67\n",
            "=> Saving checkpoint of epoch 68\n",
            "=> Saving checkpoint of epoch 69\n",
            "Iteration: 10500. Loss: 0.48049432039260864. Accuracy: 78.70370370370371\n",
            "=> Saving checkpoint of epoch 70\n",
            "=> Saving checkpoint of epoch 71\n",
            "=> Saving checkpoint of epoch 72\n",
            "Iteration: 11000. Loss: 0.5855468511581421. Accuracy: 78.43621399176955\n",
            "=> Saving checkpoint of epoch 73\n",
            "=> Saving checkpoint of epoch 74\n",
            "=> Saving checkpoint of epoch 75\n",
            "Iteration: 11500. Loss: 0.4770122170448303. Accuracy: 79.95884773662551\n",
            "=> Saving checkpoint of epoch 76\n",
            "=> Saving checkpoint of epoch 77\n",
            "=> Saving checkpoint of epoch 78\n",
            "Iteration: 12000. Loss: 0.38468167185783386. Accuracy: 79.17695473251028\n",
            "=> Saving checkpoint of epoch 79\n",
            "=> Saving checkpoint of epoch 80\n",
            "=> Saving checkpoint of epoch 81\n",
            "=> Saving checkpoint of epoch 82\n",
            "Iteration: 12500. Loss: 0.39741504192352295. Accuracy: 80.18518518518519\n",
            "=> Saving checkpoint of epoch 83\n",
            "=> Saving checkpoint of epoch 84\n",
            "=> Saving checkpoint of epoch 85\n",
            "Iteration: 13000. Loss: 0.482886403799057. Accuracy: 80.24691358024691\n",
            "=> Saving checkpoint of epoch 86\n",
            "=> Saving checkpoint of epoch 87\n",
            "=> Saving checkpoint of epoch 88\n",
            "Iteration: 13500. Loss: 0.6051791906356812. Accuracy: 78.25102880658436\n",
            "=> Saving checkpoint of epoch 89\n",
            "=> Saving checkpoint of epoch 90\n",
            "=> Saving checkpoint of epoch 91\n",
            "=> Saving checkpoint of epoch 92\n",
            "Iteration: 14000. Loss: 0.3634743094444275. Accuracy: 80.76131687242798\n",
            "=> Saving checkpoint of epoch 93\n",
            "=> Saving checkpoint of epoch 94\n",
            "=> Saving checkpoint of epoch 95\n",
            "Iteration: 14500. Loss: 0.378741055727005. Accuracy: 79.95884773662551\n",
            "=> Saving checkpoint of epoch 96\n",
            "=> Saving checkpoint of epoch 97\n",
            "=> Saving checkpoint of epoch 98\n",
            "Iteration: 15000. Loss: 0.3956763446331024. Accuracy: 76.35802469135803\n",
            "=> Saving checkpoint of epoch 99\n",
            "=> Saving checkpoint of epoch 100\n",
            "=> Saving checkpoint of epoch 101\n",
            "Iteration: 15500. Loss: 0.4039890170097351. Accuracy: 80.18518518518519\n",
            "=> Saving checkpoint of epoch 102\n",
            "=> Saving checkpoint of epoch 103\n",
            "=> Saving checkpoint of epoch 104\n",
            "=> Saving checkpoint of epoch 105\n",
            "Iteration: 16000. Loss: 0.2708721458911896. Accuracy: 79.7119341563786\n",
            "=> Saving checkpoint of epoch 106\n",
            "=> Saving checkpoint of epoch 107\n",
            "=> Saving checkpoint of epoch 108\n",
            "Iteration: 16500. Loss: 0.3358880281448364. Accuracy: 80.16460905349794\n",
            "=> Saving checkpoint of epoch 109\n",
            "=> Saving checkpoint of epoch 110\n",
            "=> Saving checkpoint of epoch 111\n",
            "Iteration: 17000. Loss: 0.46542370319366455. Accuracy: 78.90946502057614\n",
            "=> Saving checkpoint of epoch 112\n",
            "=> Saving checkpoint of epoch 113\n",
            "=> Saving checkpoint of epoch 114\n",
            "=> Saving checkpoint of epoch 115\n",
            "Iteration: 17500. Loss: 0.3075288236141205. Accuracy: 81.29629629629629\n",
            "=> Saving checkpoint of epoch 116\n",
            "=> Saving checkpoint of epoch 117\n",
            "=> Saving checkpoint of epoch 118\n",
            "Iteration: 18000. Loss: 0.2899831533432007. Accuracy: 80.94650205761317\n",
            "=> Saving checkpoint of epoch 119\n",
            "=> Saving checkpoint of epoch 120\n",
            "=> Saving checkpoint of epoch 121\n",
            "Iteration: 18500. Loss: 0.24586084485054016. Accuracy: 81.04938271604938\n",
            "=> Saving checkpoint of epoch 122\n",
            "=> Saving checkpoint of epoch 123\n",
            "=> Saving checkpoint of epoch 124\n",
            "Iteration: 19000. Loss: 0.2851239740848541. Accuracy: 82.34567901234568\n",
            "=> Saving checkpoint of epoch 125\n",
            "=> Saving checkpoint of epoch 126\n",
            "=> Saving checkpoint of epoch 127\n",
            "=> Saving checkpoint of epoch 128\n",
            "Iteration: 19500. Loss: 0.18463829159736633. Accuracy: 81.52263374485597\n",
            "=> Saving checkpoint of epoch 129\n",
            "=> Saving checkpoint of epoch 130\n",
            "=> Saving checkpoint of epoch 131\n"
          ]
        },
        {
          "output_type": "display_data",
          "data": {
            "image/png": "[encoded data removed]",
            "text/plain": [
              "<Figure size 432x288 with 1 Axes>"
            ]
          },
          "metadata": {
            "needs_background": "light"
          }
        },
        {
          "output_type": "stream",
          "name": "stdout",
          "text": [
            "Trained Model Loaded\n",
            "Accuracy: 79.5679\n",
            "Precision: 79.5679\n",
            "Recall: 79.5679\n",
            "F1 score: 79.5679\n"
          ]
        },
        {
          "output_type": "display_data",
          "data": {
            "image/png": "[encoded data removed]",
            "text/plain": [
              "<Figure size 432x288 with 2 Axes>"
            ]
          },
          "metadata": {
            "needs_background": "light"
          }
        }
      ]
    },
    {
      "cell_type": "markdown",
      "metadata": {
        "id": "dDZMkQYCjtac"
      },
      "source": [
        "# Model 2"
      ]
    },
    {
      "cell_type": "markdown",
      "metadata": {
        "id": "JMTTa1Kdjtac"
      },
      "source": [
        "## Loading Fashion MNIST Dataset"
      ]
    },
    {
      "cell_type": "code",
      "metadata": {
        "id": "9zuuJ97njtad"
      },
      "source": [
        "train_dataset = pd.read_csv(root_path + \"Dataset_2/verification_train.csv\")\n",
        "test_dataset = pd.read_csv(root_path + \"Dataset_2/verification_test.csv\")"
      ],
      "execution_count": null,
      "outputs": []
    },
    {
      "cell_type": "markdown",
      "metadata": {
        "id": "__YBO2Nhjtae"
      },
      "source": [
        "## Training Fashion MNIST Dataset"
      ]
    },
    {
      "cell_type": "code",
      "metadata": {
        "id": "_q4OjIq7jtae"
      },
      "source": [
        "train(train_dataset, test_dataset, 2)"
      ],
      "execution_count": null,
      "outputs": []
    }
  ]
}
